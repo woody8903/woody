{
 "cells": [
  {
   "cell_type": "code",
   "execution_count": null,
   "metadata": {},
   "outputs": [],
   "source": [
    "list1 = []\n",
    "list2 = []\n",
    "value = 1\n",
    "for i in range(0, 3):\n",
    "    for k in range(0, 4):\n",
    "        list1.append(value)\n",
    "        value += 1\n",
    "    list2.append(list1)\n",
    "    list1 = []\n",
    "\n",
    "for i in range(0, 3):\n",
    "    for k in range(0, 4):\n",
    "        print(\"%3d\" % list2[i][k], end = \"\")\n",
    "    print(\"\")"
   ]
  }
 ],
 "metadata": {
  "language_info": {
   "name": "python"
  }
 },
 "nbformat": 4,
 "nbformat_minor": 2
}
