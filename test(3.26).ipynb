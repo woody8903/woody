{
 "cells": [
  {
   "cell_type": "code",
   "execution_count": 138,
   "metadata": {},
   "outputs": [
    {
     "name": "stdout",
     "output_type": "stream",
     "text": [
      "이름 --> 트와이스\n",
      "구성원 수 --> 9\n",
      "데뷔 --> 서바이벌 식스틴\n",
      "대표곡 --> SIGNAL\n"
     ]
    }
   ],
   "source": [
    "singer = {}\n",
    "\n",
    "singer['이름'] = '트와이스'\n",
    "singer['구성원 수'] = 9\n",
    "singer['데뷔'] = '서바이벌 식스틴'\n",
    "singer['대표곡'] = 'SIGNAL'\n",
    "\n",
    "for k in singer.keys():\n",
    "    print('%s --> %s' % (k, singer[k]))"
   ]
  },
  {
   "cell_type": "code",
   "execution_count": 139,
   "metadata": {},
   "outputs": [
    {
     "data": {
      "text/plain": [
       "'최고'"
      ]
     },
     "execution_count": 139,
     "metadata": {},
     "output_type": "execute_result"
    }
   ],
   "source": [
    "aa = [10, 20, 30, 40, 50]\n",
    "aa[0]\n",
    "aa[1:3]\n",
    "aa[3:]\n",
    "\n",
    "ss = \"파이썬최고\"\n",
    "ss[0]\n",
    "ss[1:3]\n",
    "ss[3:]"
   ]
  },
  {
   "cell_type": "code",
   "execution_count": 145,
   "metadata": {},
   "outputs": [
    {
     "name": "stdout",
     "output_type": "stream",
     "text": [
      "파 # 썬 # 완 # 재 # 있 # 요 "
     ]
    }
   ],
   "source": [
    "ss = '파이썬은완전재미있어요'\n",
    "\n",
    "sslen = len(ss)\n",
    "for i in range(0, sslen):\n",
    "    if (i+1) %2 == 0:\n",
    "        print(ss[i], end=' ')\n",
    "    else:\n",
    "        print('#', end=' ')"
   ]
  },
  {
   "cell_type": "code",
   "execution_count": 141,
   "metadata": {},
   "outputs": [
    {
     "data": {
      "text/plain": [
       "'Python Is Easy. 그래서 Programing이 재미있습니다.^^'"
      ]
     },
     "execution_count": 141,
     "metadata": {},
     "output_type": "execute_result"
    }
   ],
   "source": [
    "ss = 'python is Easy. 그래서 programing이 재미있습니다.^^'\n",
    "ss.upper()\n",
    "ss.lower()\n",
    "ss.swapcase()\n",
    "ss.title()"
   ]
  },
  {
   "cell_type": "code",
   "execution_count": 142,
   "metadata": {},
   "outputs": [
    {
     "ename": "SyntaxError",
     "evalue": "invalid syntax. Perhaps you forgot a comma? (3989187435.py, line 3)",
     "output_type": "error",
     "traceback": [
      "\u001b[1;36m  Cell \u001b[1;32mIn[142], line 3\u001b[1;36m\u001b[0m\n\u001b[1;33m    print(ss.find('공부'),ss.rfind('공부'),ss.find('공부',5)ss.find('없다'))\u001b[0m\n\u001b[1;37m                                       ^\u001b[0m\n\u001b[1;31mSyntaxError\u001b[0m\u001b[1;31m:\u001b[0m invalid syntax. Perhaps you forgot a comma?\n"
     ]
    }
   ],
   "source": [
    "ss = '파이썬 공부는 즐겁습니다. 물론 모든 공부가 다 재미있지는 않죠.^^'\n",
    "ss.count('공부')\n",
    "print(ss.find('공부'),ss.rfind('공부'),ss.find('공부',5)ss.find('없다'))\n",
    "print(ss.index('공부'), ss.rindex('공부'),ss.index('공부',5))\n",
    "print(ss.startswith('파이썬'), ss.startswith('파이썬',10), ss.endswith('^^'))"
   ]
  },
  {
   "cell_type": "code",
   "execution_count": 143,
   "metadata": {},
   "outputs": [
    {
     "data": {
      "text/plain": [
       "'파 이 썬'"
      ]
     },
     "execution_count": 143,
     "metadata": {},
     "output_type": "execute_result"
    }
   ],
   "source": [
    "ss = '파 이 썬'\n",
    "ss.strip()\n",
    "ss.rstrip()\n",
    "ss.lstrip()\n"
   ]
  },
  {
   "cell_type": "code",
   "execution_count": 144,
   "metadata": {},
   "outputs": [
    {
     "data": {
      "text/plain": [
       "[2019, 12, 31]"
      ]
     },
     "execution_count": 144,
     "metadata": {},
     "output_type": "execute_result"
    }
   ],
   "source": [
    "before = ['2019', '12', '31']\n",
    "after = list(map(int, before))\n",
    "after"
   ]
  },
  {
   "cell_type": "code",
   "execution_count": 146,
   "metadata": {},
   "outputs": [
    {
     "name": "stdout",
     "output_type": "stream",
     "text": [
      "100과 200의 plus() 함수 결과는 300\n"
     ]
    }
   ],
   "source": [
    "def plus (v1, v2):\n",
    "    result = 0\n",
    "    result = v1 + v2\n",
    "    return result\n",
    "\n",
    "hap = 0\n",
    "\n",
    "hap = plus(100, 200)\n",
    "print(\"100과 200의 plus() 함수 결과는 %d\" % hap)"
   ]
  },
  {
   "cell_type": "code",
   "execution_count": 153,
   "metadata": {},
   "outputs": [
    {
     "name": "stdout",
     "output_type": "stream",
     "text": [
      "##계산기 : 2 + 2 = 4\n"
     ]
    }
   ],
   "source": [
    "def calc(v1, v2, op):\n",
    "    result = 0\n",
    "    if op == '+':\n",
    "        result = v1 + v2\n",
    "    elif op == '-':\n",
    "        result = v1 = v2\n",
    "    elif op == '*':\n",
    "        result = v1 * v2\n",
    "    elif op == \"/\":\n",
    "        result = v1 / v2\n",
    "    \n",
    "    return result\n",
    "\n",
    "res = 0\n",
    "var1, var2, oper = 0, 0, \"\"\n",
    "\n",
    "oper = input(\"계산을 입력하세요(+, -, *, /):\")\n",
    "var1 = int(input(\"첫 번째 수를 입력하세요:\"))\n",
    "var2 = int(input(\"두 전째 수를 입력하세요:\"))\n",
    "\n",
    "res = calc(var1, var2, oper)\n",
    "\n",
    "print(\"##계산기 : %d %s %d = %d\" % (var1, oper, var2 ,res))\n",
    "print(\"0으로는 나누면 안됩니다.ㅠㅠ\")"
   ]
  },
  {
   "cell_type": "code",
   "execution_count": 162,
   "metadata": {},
   "outputs": [
    {
     "name": "stdout",
     "output_type": "stream",
     "text": [
      "##계산기 : 0 0 0 = 0\n"
     ]
    }
   ],
   "source": [
    "def calc(v1, v2, op):\n",
    "    result = 0\n",
    "    if op == '+':\n",
    "        result = v1 + v2\n",
    "    elif op == '-':\n",
    "        result = v1 = v2\n",
    "    elif op == '*':\n",
    "        result = v1 * v2\n",
    "    elif op == \"/\":\n",
    "        result = v1 / v2\n",
    "    elif op == \"**\":\n",
    "        result = v1 ** v2\n",
    "    \n",
    "    return result\n",
    "\n",
    "res = 0\n",
    "var1, var2, oper = 0, 0, \"\"\n",
    "\n",
    "var1 = int(input(\"첫 번째 수를 입력하세요:\"))\n",
    "oper = input(\"계산을 입력하세요(+, -, *, /):\")\n",
    "var2 = int(input(\"두 전째 수를 입력하세요:\"))\n",
    "\n",
    "if oper == \"/\" and var1 == 0 and var2 == 0 :\n",
    "    print(\"0은 입력할 수 없습니다.ㅜㅜ\")\n",
    "else :\n",
    "    res = calc(var1, var2, oper)\n",
    "    print(\"##계산기 : %d %s %d = %d\" % (var1, oper, var2 ,res))\n",
    "\n"
   ]
  },
  {
   "cell_type": "code",
   "execution_count": 165,
   "metadata": {},
   "outputs": [
    {
     "name": "stdout",
     "output_type": "stream",
     "text": [
      "func1()에서 a값 10\n",
      "func2()에서 a값 20\n"
     ]
    }
   ],
   "source": [
    "def func1():\n",
    "    a = 10\n",
    "    print(\"func1()에서 a값 %d\" % a)\n",
    "\n",
    "def func2():\n",
    "    print(\"func2()에서 a값 %d\" % a)\n",
    "\n",
    "a = 20\n",
    "\n",
    "func1()\n",
    "func2()"
   ]
  }
 ],
 "metadata": {
  "kernelspec": {
   "display_name": "Python 3",
   "language": "python",
   "name": "python3"
  },
  "language_info": {
   "codemirror_mode": {
    "name": "ipython",
    "version": 3
   },
   "file_extension": ".py",
   "mimetype": "text/x-python",
   "name": "python",
   "nbconvert_exporter": "python",
   "pygments_lexer": "ipython3",
   "version": "3.12.2"
  }
 },
 "nbformat": 4,
 "nbformat_minor": 2
}
